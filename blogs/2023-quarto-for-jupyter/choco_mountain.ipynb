{
 "cells": [
  {
   "cell_type": "raw",
   "id": "1ded5c8d",
   "metadata": {},
   "source": [
    "---\n",
    "title: \"Reporting on Mario Kart 64 World Records\"\n",
    "author: \"Myles Mitchell & Parisa Gregg\"\n",
    "date: \"1 Aug 2023\"\n",
    "format: html\n",
    "execute:\n",
    "    eval: true\n",
    "---"
   ]
  },
  {
   "cell_type": "markdown",
   "id": "a3f764a9",
   "metadata": {},
   "source": [
    "### Abstract\n",
    "\n",
    "Investigating how the world record for Choco Mountain in Mario Kart 64\n",
    "developed over time.\n",
    "\n",
    "## Introduction\n",
    "\n",
    "Mario Kart 64 is a racing video game developed and published by\n",
    "[Nintendo](https://en.wikipedia.org/wiki/Nintendo) for the\n",
    "[Nintendo 64](https://en.wikipedia.org/wiki/Nintendo_64).\n",
    "\n",
    "Players can choose from eight characters to race as, including:\n",
    "\n",
    "- Mario\n",
    "- Toad\n",
    "- Princess Peach\n",
    "\n",
    "The game consists of 16 tracks to race around. World records can be\n",
    "set for either one lap or a full race (three laps) of the course. As\n",
    "players have competed for faster times, several track shortcuts have\n",
    "been discovered. There are separate world records for both _with_ and\n",
    "_without_ the use of a shortcut.\n",
    "\n",
    "## Methods\n",
    "\n",
    "We loaded a dataset of [Mario Kart 64](https://mkwrs.com/) world\n",
    "records. This data is from [tidytuesday](https://github.com/rfordatascience/tidytuesday/blob/master/data/2021/2021-05-25/readme.md)\n",
    "with credit to [Benedikt Claus](https://github.com/benediktclaus).\n",
    "\n",
    "For this investigation we are interested in the world records for\n",
    "Choco Mountain over a three-lap course. The dataset was loaded and\n",
    "filtered using pandas:"
   ]
  },
  {
   "cell_type": "code",
   "execution_count": 1,
   "id": "8195c71a",
   "metadata": {},
   "outputs": [
    {
     "data": {
      "text/html": [
       "<div>\n",
       "<style scoped>\n",
       "    .dataframe tbody tr th:only-of-type {\n",
       "        vertical-align: middle;\n",
       "    }\n",
       "\n",
       "    .dataframe tbody tr th {\n",
       "        vertical-align: top;\n",
       "    }\n",
       "\n",
       "    .dataframe thead th {\n",
       "        text-align: right;\n",
       "    }\n",
       "</style>\n",
       "<table border=\"1\" class=\"dataframe\">\n",
       "  <thead>\n",
       "    <tr style=\"text-align: right;\">\n",
       "      <th></th>\n",
       "      <th>index</th>\n",
       "      <th>track</th>\n",
       "      <th>type</th>\n",
       "      <th>shortcut</th>\n",
       "      <th>player</th>\n",
       "      <th>system_played</th>\n",
       "      <th>date</th>\n",
       "      <th>time_period</th>\n",
       "      <th>time</th>\n",
       "      <th>record_duration</th>\n",
       "    </tr>\n",
       "  </thead>\n",
       "  <tbody>\n",
       "    <tr>\n",
       "      <th>0</th>\n",
       "      <td>862</td>\n",
       "      <td>Choco Mountain</td>\n",
       "      <td>Three Lap</td>\n",
       "      <td>No</td>\n",
       "      <td>Gregg G</td>\n",
       "      <td>NTSC</td>\n",
       "      <td>1997-03-10</td>\n",
       "      <td>2M 7.96S</td>\n",
       "      <td>127.96</td>\n",
       "      <td>78</td>\n",
       "    </tr>\n",
       "    <tr>\n",
       "      <th>1</th>\n",
       "      <td>863</td>\n",
       "      <td>Choco Mountain</td>\n",
       "      <td>Three Lap</td>\n",
       "      <td>No</td>\n",
       "      <td>Launspach</td>\n",
       "      <td>NTSC</td>\n",
       "      <td>1997-05-27</td>\n",
       "      <td>2M 3.65S</td>\n",
       "      <td>123.65</td>\n",
       "      <td>95</td>\n",
       "    </tr>\n",
       "    <tr>\n",
       "      <th>2</th>\n",
       "      <td>864</td>\n",
       "      <td>Choco Mountain</td>\n",
       "      <td>Three Lap</td>\n",
       "      <td>No</td>\n",
       "      <td>Booth</td>\n",
       "      <td>NTSC</td>\n",
       "      <td>1997-08-30</td>\n",
       "      <td>2M 1.42S</td>\n",
       "      <td>121.42</td>\n",
       "      <td>7</td>\n",
       "    </tr>\n",
       "    <tr>\n",
       "      <th>3</th>\n",
       "      <td>865</td>\n",
       "      <td>Choco Mountain</td>\n",
       "      <td>Three Lap</td>\n",
       "      <td>No</td>\n",
       "      <td>Booth</td>\n",
       "      <td>NTSC</td>\n",
       "      <td>1997-09-06</td>\n",
       "      <td>2M 0.91S</td>\n",
       "      <td>120.91</td>\n",
       "      <td>188</td>\n",
       "    </tr>\n",
       "    <tr>\n",
       "      <th>4</th>\n",
       "      <td>866</td>\n",
       "      <td>Choco Mountain</td>\n",
       "      <td>Three Lap</td>\n",
       "      <td>No</td>\n",
       "      <td>Booth</td>\n",
       "      <td>NTSC</td>\n",
       "      <td>1998-03-13</td>\n",
       "      <td>2M 0.23S</td>\n",
       "      <td>120.23</td>\n",
       "      <td>130</td>\n",
       "    </tr>\n",
       "  </tbody>\n",
       "</table>\n",
       "</div>"
      ],
      "text/plain": [
       "   index           track       type shortcut     player system_played  \\\n",
       "0    862  Choco Mountain  Three Lap       No    Gregg G          NTSC   \n",
       "1    863  Choco Mountain  Three Lap       No  Launspach          NTSC   \n",
       "2    864  Choco Mountain  Three Lap       No      Booth          NTSC   \n",
       "3    865  Choco Mountain  Three Lap       No      Booth          NTSC   \n",
       "4    866  Choco Mountain  Three Lap       No      Booth          NTSC   \n",
       "\n",
       "         date time_period    time  record_duration  \n",
       "0  1997-03-10    2M 7.96S  127.96               78  \n",
       "1  1997-05-27    2M 3.65S  123.65               95  \n",
       "2  1997-08-30    2M 1.42S  121.42                7  \n",
       "3  1997-09-06    2M 0.91S  120.91              188  \n",
       "4  1998-03-13    2M 0.23S  120.23              130  "
      ]
     },
     "execution_count": 1,
     "metadata": {},
     "output_type": "execute_result"
    }
   ],
   "source": [
    "import pandas as pd\n",
    "\n",
    "# Load the records data\n",
    "records = pd.read_csv(\n",
    "    \"https://raw.githubusercontent.com/rfordatascience/tidytuesday/master/data/2021/2021-05-25/records.csv\"\n",
    ")\n",
    "# Filter the data\n",
    "choco_mountain = records.loc[\n",
    "        (records[\"track\"] == \"Choco Mountain\") &\n",
    "        (records[\"type\"] == \"Three Lap\")\n",
    "].reset_index()\n",
    "# View the data\n",
    "choco_mountain.head()"
   ]
  },
  {
   "cell_type": "markdown",
   "id": "1f0201b7",
   "metadata": {},
   "source": [
    "## Results\n",
    "\n",
    "The figure below shows the development of world records for the Choco Mountain track on Mario Kart N64 from 1917 to 2021. "
   ]
  },
  {
   "cell_type": "code",
   "execution_count": 2,
   "id": "3a7cab7a",
   "metadata": {},
   "outputs": [
    {
     "data": {
      "text/html": [
       "        <script type=\"text/javascript\">\n",
       "        window.PlotlyConfig = {MathJaxConfig: 'local'};\n",
       "        if (window.MathJax && window.MathJax.Hub && window.MathJax.Hub.Config) {window.MathJax.Hub.Config({SVG: {font: \"STIX-Web\"}});}\n",
       "        if (typeof require !== 'undefined') {\n",
       "        require.undef(\"plotly\");\n",
       "        requirejs.config({\n",
       "            paths: {\n",
       "                'plotly': ['https://cdn.plot.ly/plotly-2.24.1.min']\n",
       "            }\n",
       "        });\n",
       "        require(['plotly'], function(Plotly) {\n",
       "            window._Plotly = Plotly;\n",
       "        });\n",
       "        }\n",
       "        </script>\n",
       "        "
      ]
     },
     "metadata": {},
     "output_type": "display_data"
    },
    {
     "data": {
      "text/html": [
       "<div>                            <div id=\"b6ca21e0-cbf6-46a6-b69c-a8a461a9f49c\" class=\"plotly-graph-div\" style=\"height:525px; width:100%;\"></div>            <script type=\"text/javascript\">                require([\"plotly\"], function(Plotly) {                    window.PLOTLYENV=window.PLOTLYENV || {};                                    if (document.getElementById(\"b6ca21e0-cbf6-46a6-b69c-a8a461a9f49c\")) {                    Plotly.newPlot(                        \"b6ca21e0-cbf6-46a6-b69c-a8a461a9f49c\",                        [{\"hovertemplate\":\"shortcut=No\\u003cbr\\u003edate=%{x}\\u003cbr\\u003etime=%{y}\\u003cextra\\u003e\\u003c\\u002fextra\\u003e\",\"legendgroup\":\"No\",\"line\":{\"color\":\"#636efa\",\"dash\":\"solid\",\"shape\":\"hv\"},\"marker\":{\"symbol\":\"circle\"},\"mode\":\"lines+markers\",\"name\":\"No\",\"orientation\":\"v\",\"showlegend\":true,\"x\":[\"1997-03-10\",\"1997-05-27\",\"1997-08-30\",\"1997-09-06\",\"1998-03-13\",\"1998-07-21\",\"1998-08-20\",\"1998-08-26\",\"1998-09-01\",\"1998-09-02\",\"1998-09-11\",\"1998-09-13\",\"1998-09-22\",\"1998-09-28\",\"1998-10-11\",\"1998-12-12\",\"1998-12-15\",\"1998-12-23\",\"1998-12-24\",\"1999-01-01\",\"1999-05-05\",\"1999-05-18\",\"1999-05-18\",\"1999-05-20\",\"1999-06-14\",\"2000-11-26\",\"2003-07-16\",\"2004-06-16\",\"2004-06-20\",\"2004-07-03\",\"2004-07-06\",\"2004-07-15\",\"2005-02-09\",\"2005-03-04\",\"2005-03-04\",\"2005-03-19\",\"2012-04-08\",\"2013-12-01\",\"2016-07-21\",\"2019-01-26\",\"2019-03-20\",\"2019-03-20\",\"2020-06-11\",\"2020-07-12\",\"2020-07-14\"],\"xaxis\":\"x\",\"y\":[127.96,123.65,121.42,120.91,120.23,120.15,119.97,119.91,119.82,119.75,119.69,119.52,119.33,119.21,119.05,118.98,118.86,118.68,118.49,118.0,117.93,117.83,117.67,117.56,117.36,117.28,117.21,117.21,117.04,117.01,116.99,116.72,116.52,116.51,116.45,116.25,116.15,116.14,116.08,116.05,116.05,116.0,115.97,115.97,115.93],\"yaxis\":\"y\",\"type\":\"scatter\"},{\"hovertemplate\":\"shortcut=Yes\\u003cbr\\u003edate=%{x}\\u003cbr\\u003etime=%{y}\\u003cextra\\u003e\\u003c\\u002fextra\\u003e\",\"legendgroup\":\"Yes\",\"line\":{\"color\":\"#EF553B\",\"dash\":\"solid\",\"shape\":\"hv\"},\"marker\":{\"symbol\":\"circle\"},\"mode\":\"lines+markers\",\"name\":\"Yes\",\"orientation\":\"v\",\"showlegend\":true,\"x\":[\"1997-04-10\",\"1997-04-10\",\"1997-05-01\",\"1997-06-01\",\"1997-06-24\",\"1997-08-30\",\"1998-10-08\",\"1998-10-08\",\"1998-12-01\",\"1999-05-25\",\"1999-06-04\",\"1999-09-10\",\"2000-05-01\",\"2002-08-25\",\"2002-09-03\",\"2002-09-03\",\"2005-12-19\",\"2006-03-09\",\"2006-03-10\",\"2006-06-27\",\"2006-06-27\",\"2007-04-15\",\"2007-04-28\",\"2007-05-08\",\"2014-11-09\",\"2014-11-10\",\"2015-01-16\",\"2016-03-22\",\"2017-08-27\",\"2017-09-06\",\"2017-09-14\",\"2017-09-21\",\"2017-10-09\",\"2017-10-13\",\"2017-10-26\",\"2017-10-29\",\"2020-03-01\",\"2020-09-06\",\"2021-02-03\"],\"xaxis\":\"x\",\"y\":[111.26,108.62,107.0,99.79,89.6,87.14,83.53,83.52,83.3,82.18,81.66,81.64,81.23,81.12,81.1,80.94,80.21000000000001,79.11,78.97,78.53,77.66,75.1,72.99,72.5,71.53999999999999,63.18,53.18,52.57,51.44,50.49,50.09,48.85,40.81,39.98,39.32,19.7,17.55,17.31,17.29],\"yaxis\":\"y\",\"type\":\"scatter\"}],                        {\"template\":{\"data\":{\"histogram2dcontour\":[{\"type\":\"histogram2dcontour\",\"colorbar\":{\"outlinewidth\":0,\"ticks\":\"\"},\"colorscale\":[[0.0,\"#0d0887\"],[0.1111111111111111,\"#46039f\"],[0.2222222222222222,\"#7201a8\"],[0.3333333333333333,\"#9c179e\"],[0.4444444444444444,\"#bd3786\"],[0.5555555555555556,\"#d8576b\"],[0.6666666666666666,\"#ed7953\"],[0.7777777777777778,\"#fb9f3a\"],[0.8888888888888888,\"#fdca26\"],[1.0,\"#f0f921\"]]}],\"choropleth\":[{\"type\":\"choropleth\",\"colorbar\":{\"outlinewidth\":0,\"ticks\":\"\"}}],\"histogram2d\":[{\"type\":\"histogram2d\",\"colorbar\":{\"outlinewidth\":0,\"ticks\":\"\"},\"colorscale\":[[0.0,\"#0d0887\"],[0.1111111111111111,\"#46039f\"],[0.2222222222222222,\"#7201a8\"],[0.3333333333333333,\"#9c179e\"],[0.4444444444444444,\"#bd3786\"],[0.5555555555555556,\"#d8576b\"],[0.6666666666666666,\"#ed7953\"],[0.7777777777777778,\"#fb9f3a\"],[0.8888888888888888,\"#fdca26\"],[1.0,\"#f0f921\"]]}],\"heatmap\":[{\"type\":\"heatmap\",\"colorbar\":{\"outlinewidth\":0,\"ticks\":\"\"},\"colorscale\":[[0.0,\"#0d0887\"],[0.1111111111111111,\"#46039f\"],[0.2222222222222222,\"#7201a8\"],[0.3333333333333333,\"#9c179e\"],[0.4444444444444444,\"#bd3786\"],[0.5555555555555556,\"#d8576b\"],[0.6666666666666666,\"#ed7953\"],[0.7777777777777778,\"#fb9f3a\"],[0.8888888888888888,\"#fdca26\"],[1.0,\"#f0f921\"]]}],\"heatmapgl\":[{\"type\":\"heatmapgl\",\"colorbar\":{\"outlinewidth\":0,\"ticks\":\"\"},\"colorscale\":[[0.0,\"#0d0887\"],[0.1111111111111111,\"#46039f\"],[0.2222222222222222,\"#7201a8\"],[0.3333333333333333,\"#9c179e\"],[0.4444444444444444,\"#bd3786\"],[0.5555555555555556,\"#d8576b\"],[0.6666666666666666,\"#ed7953\"],[0.7777777777777778,\"#fb9f3a\"],[0.8888888888888888,\"#fdca26\"],[1.0,\"#f0f921\"]]}],\"contourcarpet\":[{\"type\":\"contourcarpet\",\"colorbar\":{\"outlinewidth\":0,\"ticks\":\"\"}}],\"contour\":[{\"type\":\"contour\",\"colorbar\":{\"outlinewidth\":0,\"ticks\":\"\"},\"colorscale\":[[0.0,\"#0d0887\"],[0.1111111111111111,\"#46039f\"],[0.2222222222222222,\"#7201a8\"],[0.3333333333333333,\"#9c179e\"],[0.4444444444444444,\"#bd3786\"],[0.5555555555555556,\"#d8576b\"],[0.6666666666666666,\"#ed7953\"],[0.7777777777777778,\"#fb9f3a\"],[0.8888888888888888,\"#fdca26\"],[1.0,\"#f0f921\"]]}],\"surface\":[{\"type\":\"surface\",\"colorbar\":{\"outlinewidth\":0,\"ticks\":\"\"},\"colorscale\":[[0.0,\"#0d0887\"],[0.1111111111111111,\"#46039f\"],[0.2222222222222222,\"#7201a8\"],[0.3333333333333333,\"#9c179e\"],[0.4444444444444444,\"#bd3786\"],[0.5555555555555556,\"#d8576b\"],[0.6666666666666666,\"#ed7953\"],[0.7777777777777778,\"#fb9f3a\"],[0.8888888888888888,\"#fdca26\"],[1.0,\"#f0f921\"]]}],\"mesh3d\":[{\"type\":\"mesh3d\",\"colorbar\":{\"outlinewidth\":0,\"ticks\":\"\"}}],\"scatter\":[{\"fillpattern\":{\"fillmode\":\"overlay\",\"size\":10,\"solidity\":0.2},\"type\":\"scatter\"}],\"parcoords\":[{\"type\":\"parcoords\",\"line\":{\"colorbar\":{\"outlinewidth\":0,\"ticks\":\"\"}}}],\"scatterpolargl\":[{\"type\":\"scatterpolargl\",\"marker\":{\"colorbar\":{\"outlinewidth\":0,\"ticks\":\"\"}}}],\"bar\":[{\"error_x\":{\"color\":\"#2a3f5f\"},\"error_y\":{\"color\":\"#2a3f5f\"},\"marker\":{\"line\":{\"color\":\"#E5ECF6\",\"width\":0.5},\"pattern\":{\"fillmode\":\"overlay\",\"size\":10,\"solidity\":0.2}},\"type\":\"bar\"}],\"scattergeo\":[{\"type\":\"scattergeo\",\"marker\":{\"colorbar\":{\"outlinewidth\":0,\"ticks\":\"\"}}}],\"scatterpolar\":[{\"type\":\"scatterpolar\",\"marker\":{\"colorbar\":{\"outlinewidth\":0,\"ticks\":\"\"}}}],\"histogram\":[{\"marker\":{\"pattern\":{\"fillmode\":\"overlay\",\"size\":10,\"solidity\":0.2}},\"type\":\"histogram\"}],\"scattergl\":[{\"type\":\"scattergl\",\"marker\":{\"colorbar\":{\"outlinewidth\":0,\"ticks\":\"\"}}}],\"scatter3d\":[{\"type\":\"scatter3d\",\"line\":{\"colorbar\":{\"outlinewidth\":0,\"ticks\":\"\"}},\"marker\":{\"colorbar\":{\"outlinewidth\":0,\"ticks\":\"\"}}}],\"scattermapbox\":[{\"type\":\"scattermapbox\",\"marker\":{\"colorbar\":{\"outlinewidth\":0,\"ticks\":\"\"}}}],\"scatterternary\":[{\"type\":\"scatterternary\",\"marker\":{\"colorbar\":{\"outlinewidth\":0,\"ticks\":\"\"}}}],\"scattercarpet\":[{\"type\":\"scattercarpet\",\"marker\":{\"colorbar\":{\"outlinewidth\":0,\"ticks\":\"\"}}}],\"carpet\":[{\"aaxis\":{\"endlinecolor\":\"#2a3f5f\",\"gridcolor\":\"white\",\"linecolor\":\"white\",\"minorgridcolor\":\"white\",\"startlinecolor\":\"#2a3f5f\"},\"baxis\":{\"endlinecolor\":\"#2a3f5f\",\"gridcolor\":\"white\",\"linecolor\":\"white\",\"minorgridcolor\":\"white\",\"startlinecolor\":\"#2a3f5f\"},\"type\":\"carpet\"}],\"table\":[{\"cells\":{\"fill\":{\"color\":\"#EBF0F8\"},\"line\":{\"color\":\"white\"}},\"header\":{\"fill\":{\"color\":\"#C8D4E3\"},\"line\":{\"color\":\"white\"}},\"type\":\"table\"}],\"barpolar\":[{\"marker\":{\"line\":{\"color\":\"#E5ECF6\",\"width\":0.5},\"pattern\":{\"fillmode\":\"overlay\",\"size\":10,\"solidity\":0.2}},\"type\":\"barpolar\"}],\"pie\":[{\"automargin\":true,\"type\":\"pie\"}]},\"layout\":{\"autotypenumbers\":\"strict\",\"colorway\":[\"#636efa\",\"#EF553B\",\"#00cc96\",\"#ab63fa\",\"#FFA15A\",\"#19d3f3\",\"#FF6692\",\"#B6E880\",\"#FF97FF\",\"#FECB52\"],\"font\":{\"color\":\"#2a3f5f\"},\"hovermode\":\"closest\",\"hoverlabel\":{\"align\":\"left\"},\"paper_bgcolor\":\"white\",\"plot_bgcolor\":\"#E5ECF6\",\"polar\":{\"bgcolor\":\"#E5ECF6\",\"angularaxis\":{\"gridcolor\":\"white\",\"linecolor\":\"white\",\"ticks\":\"\"},\"radialaxis\":{\"gridcolor\":\"white\",\"linecolor\":\"white\",\"ticks\":\"\"}},\"ternary\":{\"bgcolor\":\"#E5ECF6\",\"aaxis\":{\"gridcolor\":\"white\",\"linecolor\":\"white\",\"ticks\":\"\"},\"baxis\":{\"gridcolor\":\"white\",\"linecolor\":\"white\",\"ticks\":\"\"},\"caxis\":{\"gridcolor\":\"white\",\"linecolor\":\"white\",\"ticks\":\"\"}},\"coloraxis\":{\"colorbar\":{\"outlinewidth\":0,\"ticks\":\"\"}},\"colorscale\":{\"sequential\":[[0.0,\"#0d0887\"],[0.1111111111111111,\"#46039f\"],[0.2222222222222222,\"#7201a8\"],[0.3333333333333333,\"#9c179e\"],[0.4444444444444444,\"#bd3786\"],[0.5555555555555556,\"#d8576b\"],[0.6666666666666666,\"#ed7953\"],[0.7777777777777778,\"#fb9f3a\"],[0.8888888888888888,\"#fdca26\"],[1.0,\"#f0f921\"]],\"sequentialminus\":[[0.0,\"#0d0887\"],[0.1111111111111111,\"#46039f\"],[0.2222222222222222,\"#7201a8\"],[0.3333333333333333,\"#9c179e\"],[0.4444444444444444,\"#bd3786\"],[0.5555555555555556,\"#d8576b\"],[0.6666666666666666,\"#ed7953\"],[0.7777777777777778,\"#fb9f3a\"],[0.8888888888888888,\"#fdca26\"],[1.0,\"#f0f921\"]],\"diverging\":[[0,\"#8e0152\"],[0.1,\"#c51b7d\"],[0.2,\"#de77ae\"],[0.3,\"#f1b6da\"],[0.4,\"#fde0ef\"],[0.5,\"#f7f7f7\"],[0.6,\"#e6f5d0\"],[0.7,\"#b8e186\"],[0.8,\"#7fbc41\"],[0.9,\"#4d9221\"],[1,\"#276419\"]]},\"xaxis\":{\"gridcolor\":\"white\",\"linecolor\":\"white\",\"ticks\":\"\",\"title\":{\"standoff\":15},\"zerolinecolor\":\"white\",\"automargin\":true,\"zerolinewidth\":2},\"yaxis\":{\"gridcolor\":\"white\",\"linecolor\":\"white\",\"ticks\":\"\",\"title\":{\"standoff\":15},\"zerolinecolor\":\"white\",\"automargin\":true,\"zerolinewidth\":2},\"scene\":{\"xaxis\":{\"backgroundcolor\":\"#E5ECF6\",\"gridcolor\":\"white\",\"linecolor\":\"white\",\"showbackground\":true,\"ticks\":\"\",\"zerolinecolor\":\"white\",\"gridwidth\":2},\"yaxis\":{\"backgroundcolor\":\"#E5ECF6\",\"gridcolor\":\"white\",\"linecolor\":\"white\",\"showbackground\":true,\"ticks\":\"\",\"zerolinecolor\":\"white\",\"gridwidth\":2},\"zaxis\":{\"backgroundcolor\":\"#E5ECF6\",\"gridcolor\":\"white\",\"linecolor\":\"white\",\"showbackground\":true,\"ticks\":\"\",\"zerolinecolor\":\"white\",\"gridwidth\":2}},\"shapedefaults\":{\"line\":{\"color\":\"#2a3f5f\"}},\"annotationdefaults\":{\"arrowcolor\":\"#2a3f5f\",\"arrowhead\":0,\"arrowwidth\":1},\"geo\":{\"bgcolor\":\"white\",\"landcolor\":\"#E5ECF6\",\"subunitcolor\":\"white\",\"showland\":true,\"showlakes\":true,\"lakecolor\":\"white\"},\"title\":{\"x\":0.05},\"mapbox\":{\"style\":\"light\"}}},\"xaxis\":{\"anchor\":\"y\",\"domain\":[0.0,1.0],\"title\":{\"text\":\"date\"}},\"yaxis\":{\"anchor\":\"x\",\"domain\":[0.0,1.0],\"title\":{\"text\":\"time\"}},\"legend\":{\"title\":{\"text\":\"shortcut\"},\"tracegroupgap\":0},\"title\":{\"text\":\"Progress of Choco Mountain N64 World Records\"}},                        {\"responsive\": true}                    ).then(function(){\n",
       "                            \n",
       "var gd = document.getElementById('b6ca21e0-cbf6-46a6-b69c-a8a461a9f49c');\n",
       "var x = new MutationObserver(function (mutations, observer) {{\n",
       "        var display = window.getComputedStyle(gd).display;\n",
       "        if (!display || display === 'none') {{\n",
       "            console.log([gd, 'removed!']);\n",
       "            Plotly.purge(gd);\n",
       "            observer.disconnect();\n",
       "        }}\n",
       "}});\n",
       "\n",
       "// Listen for the removal of the full notebook cells\n",
       "var notebookContainer = gd.closest('#notebook-container');\n",
       "if (notebookContainer) {{\n",
       "    x.observe(notebookContainer, {childList: true});\n",
       "}}\n",
       "\n",
       "// Listen for the clearing of the current output cell\n",
       "var outputEl = gd.closest('.output');\n",
       "if (outputEl) {{\n",
       "    x.observe(outputEl, {childList: true});\n",
       "}}\n",
       "\n",
       "                        })                };                });            </script>        </div>"
      ]
     },
     "metadata": {},
     "output_type": "display_data"
    }
   ],
   "source": [
    "#| echo: false\n",
    "#| fig-cap: \"Progress of Choco Mountain world records, with and without allowing shortcuts.\"\n",
    "#| fig-width: 8\n",
    "#| label: wr-plot\n",
    "import plotly.express as px\n",
    "\n",
    "px.line(\n",
    "    choco_mountain,\n",
    "    x=\"date\",\n",
    "    y=\"time\",\n",
    "    color=\"shortcut\",\n",
    "    title=\"Progress of Choco Mountain N64 World Records\",\n",
    "    line_shape=\"hv\",\n",
    "    markers=\".\"\n",
    ")"
   ]
  },
  {
   "cell_type": "code",
   "execution_count": 3,
   "id": "b14a433e",
   "metadata": {},
   "outputs": [
    {
     "data": {
      "text/markdown": [
       "\n",
       "The longest a 3 lap world record was held \n",
       "for on Choco Mountain is 2742 days\n",
       "(7.5 years).\n"
      ],
      "text/plain": [
       "<IPython.core.display.Markdown object>"
      ]
     },
     "metadata": {},
     "output_type": "display_data"
    }
   ],
   "source": [
    "#| echo: false\n",
    "from IPython.display import display, Markdown\n",
    "\n",
    "max_duration = choco_mountain.record_duration.max()\n",
    "display(Markdown(\n",
    "f\"\"\"\n",
    "The longest a 3 lap world record was held \n",
    "for on Choco Mountain is {max_duration} days\n",
    "({round(max_duration/365,1)} years).\n",
    "\"\"\"\n",
    "))"
   ]
  }
 ],
 "metadata": {
  "kernelspec": {
   "display_name": "quarto-blog",
   "language": "python",
   "name": "quarto-blog"
  },
  "language_info": {
   "codemirror_mode": {
    "name": "ipython",
    "version": 3
   },
   "file_extension": ".py",
   "mimetype": "text/x-python",
   "name": "python",
   "nbconvert_exporter": "python",
   "pygments_lexer": "ipython3",
   "version": "3.10.12"
  }
 },
 "nbformat": 4,
 "nbformat_minor": 5
}
