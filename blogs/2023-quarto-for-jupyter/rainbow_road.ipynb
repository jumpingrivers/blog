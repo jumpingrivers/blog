{
 "cells": [
  {
   "cell_type": "raw",
   "id": "1ded5c8d",
   "metadata": {},
   "source": [
    "---\n",
    "title: \"Reporting on Mario Kart 64 World Records\"\n",
    "author: \"Myles Mitchell & Parisa Gregg\"\n",
    "date: \"1 Aug 2023\"\n",
    "format: html\n",
    "execute:\n",
    "    eval: true\n",
    "jupyter: blog_env_github\n",
    "---"
   ]
  },
  {
   "cell_type": "markdown",
   "id": "a3f764a9",
   "metadata": {},
   "source": [
    "### Abstract\n",
    "\n",
    "Investigating how the world record for Rainbow Road in Mario Kart 64\n",
    "developed over time.\n",
    "\n",
    "## Introduction\n",
    "\n",
    "Mario Kart 64 is a racing video game developed and published by\n",
    "[Nintendo](https://en.wikipedia.org/wiki/Nintendo) for the\n",
    "[Nintendo 64](https://en.wikipedia.org/wiki/Nintendo_64).\n",
    "\n",
    "Players can choose from eight characters to race as, including:\n",
    "\n",
    "- Mario\n",
    "- Toad\n",
    "- Princess Peach\n",
    "\n",
    "The game consists of 16 tracks to race around. World records can be\n",
    "set for either one lap or a full race (three laps) of the course. As\n",
    "players have competed for faster times, several track shortcuts have\n",
    "been discovered. There are separate world records for both _with_ and\n",
    "_without_ the use of a shortcut.\n",
    "\n",
    "## Methods\n",
    "\n",
    "We loaded a dataset of [Mario Kart 64](https://mkwrs.com/) world\n",
    "records. This data is from [tidytuesday](https://github.com/rfordatascience/tidytuesday/blob/master/data/2021/2021-05-25/readme.md)\n",
    "with credit to [Benedikt Claus](https://github.com/benediktclaus).\n",
    "\n",
    "For this investigation we are interested in the world records for\n",
    "rainbow road over a three-lap course. The dataset was loaded and\n",
    "filtered using pandas:"
   ]
  },
  {
   "cell_type": "code",
   "execution_count": 1,
   "id": "8195c71a",
   "metadata": {},
   "outputs": [
    {
     "data": {
      "text/html": [
       "<div>\n",
       "<style scoped>\n",
       "    .dataframe tbody tr th:only-of-type {\n",
       "        vertical-align: middle;\n",
       "    }\n",
       "\n",
       "    .dataframe tbody tr th {\n",
       "        vertical-align: top;\n",
       "    }\n",
       "\n",
       "    .dataframe thead th {\n",
       "        text-align: right;\n",
       "    }\n",
       "</style>\n",
       "<table border=\"1\" class=\"dataframe\">\n",
       "  <thead>\n",
       "    <tr style=\"text-align: right;\">\n",
       "      <th></th>\n",
       "      <th>index</th>\n",
       "      <th>track</th>\n",
       "      <th>type</th>\n",
       "      <th>shortcut</th>\n",
       "      <th>player</th>\n",
       "      <th>system_played</th>\n",
       "      <th>date</th>\n",
       "      <th>time_period</th>\n",
       "      <th>time</th>\n",
       "      <th>record_duration</th>\n",
       "    </tr>\n",
       "  </thead>\n",
       "  <tbody>\n",
       "    <tr>\n",
       "      <th>0</th>\n",
       "      <td>2155</td>\n",
       "      <td>Rainbow Road</td>\n",
       "      <td>Three Lap</td>\n",
       "      <td>No</td>\n",
       "      <td>Booth</td>\n",
       "      <td>NTSC</td>\n",
       "      <td>1997-05-27</td>\n",
       "      <td>6M 15.83S</td>\n",
       "      <td>375.83</td>\n",
       "      <td>92</td>\n",
       "    </tr>\n",
       "    <tr>\n",
       "      <th>1</th>\n",
       "      <td>2156</td>\n",
       "      <td>Rainbow Road</td>\n",
       "      <td>Three Lap</td>\n",
       "      <td>No</td>\n",
       "      <td>Jonathan</td>\n",
       "      <td>NTSC</td>\n",
       "      <td>1997-08-27</td>\n",
       "      <td>6M 9.67S</td>\n",
       "      <td>369.67</td>\n",
       "      <td>140</td>\n",
       "    </tr>\n",
       "    <tr>\n",
       "      <th>2</th>\n",
       "      <td>2157</td>\n",
       "      <td>Rainbow Road</td>\n",
       "      <td>Three Lap</td>\n",
       "      <td>No</td>\n",
       "      <td>Zwartjes</td>\n",
       "      <td>PAL</td>\n",
       "      <td>1998-01-14</td>\n",
       "      <td>6M 8.69S</td>\n",
       "      <td>368.69</td>\n",
       "      <td>58</td>\n",
       "    </tr>\n",
       "    <tr>\n",
       "      <th>3</th>\n",
       "      <td>2158</td>\n",
       "      <td>Rainbow Road</td>\n",
       "      <td>Three Lap</td>\n",
       "      <td>No</td>\n",
       "      <td>Jonathan</td>\n",
       "      <td>NTSC</td>\n",
       "      <td>1998-03-13</td>\n",
       "      <td>6M 5.51S</td>\n",
       "      <td>365.51</td>\n",
       "      <td>173</td>\n",
       "    </tr>\n",
       "    <tr>\n",
       "      <th>4</th>\n",
       "      <td>2159</td>\n",
       "      <td>Rainbow Road</td>\n",
       "      <td>Three Lap</td>\n",
       "      <td>No</td>\n",
       "      <td>Penev</td>\n",
       "      <td>PAL</td>\n",
       "      <td>1998-09-02</td>\n",
       "      <td>6M 4.15S</td>\n",
       "      <td>364.15</td>\n",
       "      <td>9</td>\n",
       "    </tr>\n",
       "  </tbody>\n",
       "</table>\n",
       "</div>"
      ],
      "text/plain": [
       "   index         track       type shortcut    player system_played  \\\n",
       "0   2155  Rainbow Road  Three Lap       No     Booth          NTSC   \n",
       "1   2156  Rainbow Road  Three Lap       No  Jonathan          NTSC   \n",
       "2   2157  Rainbow Road  Three Lap       No  Zwartjes           PAL   \n",
       "3   2158  Rainbow Road  Three Lap       No  Jonathan          NTSC   \n",
       "4   2159  Rainbow Road  Three Lap       No     Penev           PAL   \n",
       "\n",
       "         date time_period    time  record_duration  \n",
       "0  1997-05-27   6M 15.83S  375.83               92  \n",
       "1  1997-08-27    6M 9.67S  369.67              140  \n",
       "2  1998-01-14    6M 8.69S  368.69               58  \n",
       "3  1998-03-13    6M 5.51S  365.51              173  \n",
       "4  1998-09-02    6M 4.15S  364.15                9  "
      ]
     },
     "execution_count": 4,
     "metadata": {},
     "output_type": "execute_result"
    }
   ],
   "source": [
    "import pandas as pd\n",
    "\n",
    "# Load the records data\n",
    "records = pd.read_csv(\n",
    "    \"https://raw.githubusercontent.com/rfordatascience/tidytuesday/master/data/2021/2021-05-25/records.csv\"\n",
    ")\n",
    "# Filter the data\n",
    "rainbow_road = records.loc[\n",
    "        (records[\"track\"] == \"Rainbow Road\") &\n",
    "        (records[\"type\"] == \"Three Lap\")\n",
    "].reset_index()\n",
    "# View the data\n",
    "rainbow_road.head()"
   ]
  },
  {
   "cell_type": "markdown",
   "id": "1f0201b7",
   "metadata": {},
   "source": [
    "## Results\n",
    "\n",
    "The figure below shows the development of world records for the Rainbow Road track on Mario Kart N64 from 1917 to 2021. "
   ]
  },
  {
   "cell_type": "code",
   "execution_count": 2,
   "id": "3a7cab7a",
   "metadata": {},
   "outputs": [
    {
     "data": {
      "text/html": [
       "        <script type=\"text/javascript\">\n",
       "        window.PlotlyConfig = {MathJaxConfig: 'local'};\n",
       "        if (window.MathJax && window.MathJax.Hub && window.MathJax.Hub.Config) {window.MathJax.Hub.Config({SVG: {font: \"STIX-Web\"}});}\n",
       "        if (typeof require !== 'undefined') {\n",
       "        require.undef(\"plotly\");\n",
       "        requirejs.config({\n",
       "            paths: {\n",
       "                'plotly': ['https://cdn.plot.ly/plotly-2.25.2.min']\n",
       "            }\n",
       "        });\n",
       "        require(['plotly'], function(Plotly) {\n",
       "            window._Plotly = Plotly;\n",
       "        });\n",
       "        }\n",
       "        </script>\n",
       "        "
      ]
     },
     "metadata": {},
     "output_type": "display_data"
    },
    {
     "data": {
      "text/html": [
       "<div>                            <div id=\"fa7f58d0-2c15-4950-a36f-90fddad94470\" class=\"plotly-graph-div\" style=\"height:525px; width:100%;\"></div>            <script type=\"text/javascript\">                require([\"plotly\"], function(Plotly) {                    window.PLOTLYENV=window.PLOTLYENV || {};                                    if (document.getElementById(\"fa7f58d0-2c15-4950-a36f-90fddad94470\")) {                    Plotly.newPlot(                        \"fa7f58d0-2c15-4950-a36f-90fddad94470\",                        [{\"hovertemplate\":\"shortcut=No\\u003cbr\\u003edate=%{x}\\u003cbr\\u003etime=%{y}\\u003cextra\\u003e\\u003c\\u002fextra\\u003e\",\"legendgroup\":\"No\",\"line\":{\"color\":\"#636efa\",\"dash\":\"solid\",\"shape\":\"hv\"},\"marker\":{\"symbol\":\"circle\"},\"mode\":\"markers+lines\",\"name\":\"No\",\"orientation\":\"v\",\"showlegend\":true,\"x\":[\"1997-05-27\",\"1997-08-27\",\"1998-01-14\",\"1998-03-13\",\"1998-09-02\",\"1998-09-11\",\"1998-09-13\",\"1998-09-22\",\"1998-09-30\",\"1998-10-09\",\"1998-10-10\",\"1998-10-24\",\"1999-02-14\",\"1999-04-20\",\"1999-04-28\",\"1999-06-02\",\"1999-11-13\",\"2000-11-17\",\"2003-03-30\",\"2003-03-31\",\"2005-02-10\",\"2006-01-29\",\"2006-02-01\",\"2012-02-24\",\"2012-03-24\",\"2012-12-23\",\"2013-07-02\",\"2014-08-12\",\"2014-08-15\",\"2015-11-28\",\"2015-11-30\",\"2015-12-05\",\"2015-12-14\",\"2016-01-13\",\"2016-01-13\",\"2016-02-09\",\"2018-04-07\",\"2018-04-13\",\"2019-04-05\",\"2019-04-10\",\"2019-04-10\",\"2020-09-28\"],\"xaxis\":\"x\",\"y\":[375.83,369.67,368.69,365.51,364.15,363.86,362.15,361.97,361.79,361.66,361.6,361.27,360.38,360.09,359.81,359.63,358.45,357.09000000000003,356.57,356.24,355.8,354.79,354.33,354.32,353.99,353.83,353.8,353.78,353.56,353.39,353.25,353.2,353.12,353.0,352.88,352.75,352.44,352.37,352.25,352.22,351.96,351.87],\"yaxis\":\"y\",\"type\":\"scatter\"},{\"hovertemplate\":\"shortcut=Yes\\u003cbr\\u003edate=%{x}\\u003cbr\\u003etime=%{y}\\u003cextra\\u003e\\u003c\\u002fextra\\u003e\",\"legendgroup\":\"Yes\",\"line\":{\"color\":\"#EF553B\",\"dash\":\"solid\",\"shape\":\"hv\"},\"marker\":{\"symbol\":\"circle\"},\"mode\":\"markers+lines\",\"name\":\"Yes\",\"orientation\":\"v\",\"showlegend\":true,\"x\":[\"1997-03-07\",\"1997-03-20\",\"1997-04-04\",\"1997-08-30\",\"1998-03-23\",\"1998-09-22\",\"1998-10-18\",\"1998-12-16\",\"1998-12-23\",\"1999-02-20\",\"1999-04-18\",\"1999-07-30\",\"1999-08-30\",\"1999-09-16\",\"2000-11-12\",\"2004-08-10\",\"2004-08-24\",\"2004-09-09\",\"2004-11-29\",\"2005-01-30\",\"2005-02-14\",\"2005-03-01\",\"2005-03-01\",\"2005-03-03\",\"2006-02-17\",\"2006-02-19\",\"2006-12-08\",\"2006-12-10\",\"2006-12-11\",\"2006-12-13\",\"2012-02-05\",\"2012-02-07\",\"2012-03-08\",\"2012-09-16\",\"2012-09-19\",\"2014-08-07\",\"2015-03-31\",\"2017-11-26\",\"2017-11-26\",\"2017-11-30\",\"2017-11-30\",\"2017-12-02\",\"2017-12-14\",\"2018-11-05\",\"2019-01-01\",\"2020-10-10\",\"2020-10-10\",\"2020-10-10\",\"2020-10-11\",\"2020-10-11\",\"2020-10-11\",\"2020-10-11\",\"2020-10-12\",\"2020-10-15\",\"2020-10-16\",\"2020-10-25\",\"2021-02-07\"],\"xaxis\":\"x\",\"y\":[299.81,287.02,282.56,279.32,277.56,276.32,275.85,275.13,274.75,273.56,273.52,272.42,271.35,261.96,260.47,259.77,259.66,252.86,247.21,243.8,240.74,240.31,240.28,240.06,239.42,239.07,238.84,238.34,238.33,237.97,237.55,237.18,237.03,236.79,236.61,236.52,236.36,236.15,236.07,236.02,235.9,235.72,235.38,235.13,234.87,210.84,160.94,65.77,60.22,59.25,58.01,56.08,54.13,50.48,50.39,50.39,50.38],\"yaxis\":\"y\",\"type\":\"scatter\"}],                        {\"template\":{\"data\":{\"histogram2dcontour\":[{\"type\":\"histogram2dcontour\",\"colorbar\":{\"outlinewidth\":0,\"ticks\":\"\"},\"colorscale\":[[0.0,\"#0d0887\"],[0.1111111111111111,\"#46039f\"],[0.2222222222222222,\"#7201a8\"],[0.3333333333333333,\"#9c179e\"],[0.4444444444444444,\"#bd3786\"],[0.5555555555555556,\"#d8576b\"],[0.6666666666666666,\"#ed7953\"],[0.7777777777777778,\"#fb9f3a\"],[0.8888888888888888,\"#fdca26\"],[1.0,\"#f0f921\"]]}],\"choropleth\":[{\"type\":\"choropleth\",\"colorbar\":{\"outlinewidth\":0,\"ticks\":\"\"}}],\"histogram2d\":[{\"type\":\"histogram2d\",\"colorbar\":{\"outlinewidth\":0,\"ticks\":\"\"},\"colorscale\":[[0.0,\"#0d0887\"],[0.1111111111111111,\"#46039f\"],[0.2222222222222222,\"#7201a8\"],[0.3333333333333333,\"#9c179e\"],[0.4444444444444444,\"#bd3786\"],[0.5555555555555556,\"#d8576b\"],[0.6666666666666666,\"#ed7953\"],[0.7777777777777778,\"#fb9f3a\"],[0.8888888888888888,\"#fdca26\"],[1.0,\"#f0f921\"]]}],\"heatmap\":[{\"type\":\"heatmap\",\"colorbar\":{\"outlinewidth\":0,\"ticks\":\"\"},\"colorscale\":[[0.0,\"#0d0887\"],[0.1111111111111111,\"#46039f\"],[0.2222222222222222,\"#7201a8\"],[0.3333333333333333,\"#9c179e\"],[0.4444444444444444,\"#bd3786\"],[0.5555555555555556,\"#d8576b\"],[0.6666666666666666,\"#ed7953\"],[0.7777777777777778,\"#fb9f3a\"],[0.8888888888888888,\"#fdca26\"],[1.0,\"#f0f921\"]]}],\"heatmapgl\":[{\"type\":\"heatmapgl\",\"colorbar\":{\"outlinewidth\":0,\"ticks\":\"\"},\"colorscale\":[[0.0,\"#0d0887\"],[0.1111111111111111,\"#46039f\"],[0.2222222222222222,\"#7201a8\"],[0.3333333333333333,\"#9c179e\"],[0.4444444444444444,\"#bd3786\"],[0.5555555555555556,\"#d8576b\"],[0.6666666666666666,\"#ed7953\"],[0.7777777777777778,\"#fb9f3a\"],[0.8888888888888888,\"#fdca26\"],[1.0,\"#f0f921\"]]}],\"contourcarpet\":[{\"type\":\"contourcarpet\",\"colorbar\":{\"outlinewidth\":0,\"ticks\":\"\"}}],\"contour\":[{\"type\":\"contour\",\"colorbar\":{\"outlinewidth\":0,\"ticks\":\"\"},\"colorscale\":[[0.0,\"#0d0887\"],[0.1111111111111111,\"#46039f\"],[0.2222222222222222,\"#7201a8\"],[0.3333333333333333,\"#9c179e\"],[0.4444444444444444,\"#bd3786\"],[0.5555555555555556,\"#d8576b\"],[0.6666666666666666,\"#ed7953\"],[0.7777777777777778,\"#fb9f3a\"],[0.8888888888888888,\"#fdca26\"],[1.0,\"#f0f921\"]]}],\"surface\":[{\"type\":\"surface\",\"colorbar\":{\"outlinewidth\":0,\"ticks\":\"\"},\"colorscale\":[[0.0,\"#0d0887\"],[0.1111111111111111,\"#46039f\"],[0.2222222222222222,\"#7201a8\"],[0.3333333333333333,\"#9c179e\"],[0.4444444444444444,\"#bd3786\"],[0.5555555555555556,\"#d8576b\"],[0.6666666666666666,\"#ed7953\"],[0.7777777777777778,\"#fb9f3a\"],[0.8888888888888888,\"#fdca26\"],[1.0,\"#f0f921\"]]}],\"mesh3d\":[{\"type\":\"mesh3d\",\"colorbar\":{\"outlinewidth\":0,\"ticks\":\"\"}}],\"scatter\":[{\"fillpattern\":{\"fillmode\":\"overlay\",\"size\":10,\"solidity\":0.2},\"type\":\"scatter\"}],\"parcoords\":[{\"type\":\"parcoords\",\"line\":{\"colorbar\":{\"outlinewidth\":0,\"ticks\":\"\"}}}],\"scatterpolargl\":[{\"type\":\"scatterpolargl\",\"marker\":{\"colorbar\":{\"outlinewidth\":0,\"ticks\":\"\"}}}],\"bar\":[{\"error_x\":{\"color\":\"#2a3f5f\"},\"error_y\":{\"color\":\"#2a3f5f\"},\"marker\":{\"line\":{\"color\":\"#E5ECF6\",\"width\":0.5},\"pattern\":{\"fillmode\":\"overlay\",\"size\":10,\"solidity\":0.2}},\"type\":\"bar\"}],\"scattergeo\":[{\"type\":\"scattergeo\",\"marker\":{\"colorbar\":{\"outlinewidth\":0,\"ticks\":\"\"}}}],\"scatterpolar\":[{\"type\":\"scatterpolar\",\"marker\":{\"colorbar\":{\"outlinewidth\":0,\"ticks\":\"\"}}}],\"histogram\":[{\"marker\":{\"pattern\":{\"fillmode\":\"overlay\",\"size\":10,\"solidity\":0.2}},\"type\":\"histogram\"}],\"scattergl\":[{\"type\":\"scattergl\",\"marker\":{\"colorbar\":{\"outlinewidth\":0,\"ticks\":\"\"}}}],\"scatter3d\":[{\"type\":\"scatter3d\",\"line\":{\"colorbar\":{\"outlinewidth\":0,\"ticks\":\"\"}},\"marker\":{\"colorbar\":{\"outlinewidth\":0,\"ticks\":\"\"}}}],\"scattermapbox\":[{\"type\":\"scattermapbox\",\"marker\":{\"colorbar\":{\"outlinewidth\":0,\"ticks\":\"\"}}}],\"scatterternary\":[{\"type\":\"scatterternary\",\"marker\":{\"colorbar\":{\"outlinewidth\":0,\"ticks\":\"\"}}}],\"scattercarpet\":[{\"type\":\"scattercarpet\",\"marker\":{\"colorbar\":{\"outlinewidth\":0,\"ticks\":\"\"}}}],\"carpet\":[{\"aaxis\":{\"endlinecolor\":\"#2a3f5f\",\"gridcolor\":\"white\",\"linecolor\":\"white\",\"minorgridcolor\":\"white\",\"startlinecolor\":\"#2a3f5f\"},\"baxis\":{\"endlinecolor\":\"#2a3f5f\",\"gridcolor\":\"white\",\"linecolor\":\"white\",\"minorgridcolor\":\"white\",\"startlinecolor\":\"#2a3f5f\"},\"type\":\"carpet\"}],\"table\":[{\"cells\":{\"fill\":{\"color\":\"#EBF0F8\"},\"line\":{\"color\":\"white\"}},\"header\":{\"fill\":{\"color\":\"#C8D4E3\"},\"line\":{\"color\":\"white\"}},\"type\":\"table\"}],\"barpolar\":[{\"marker\":{\"line\":{\"color\":\"#E5ECF6\",\"width\":0.5},\"pattern\":{\"fillmode\":\"overlay\",\"size\":10,\"solidity\":0.2}},\"type\":\"barpolar\"}],\"pie\":[{\"automargin\":true,\"type\":\"pie\"}]},\"layout\":{\"autotypenumbers\":\"strict\",\"colorway\":[\"#636efa\",\"#EF553B\",\"#00cc96\",\"#ab63fa\",\"#FFA15A\",\"#19d3f3\",\"#FF6692\",\"#B6E880\",\"#FF97FF\",\"#FECB52\"],\"font\":{\"color\":\"#2a3f5f\"},\"hovermode\":\"closest\",\"hoverlabel\":{\"align\":\"left\"},\"paper_bgcolor\":\"white\",\"plot_bgcolor\":\"#E5ECF6\",\"polar\":{\"bgcolor\":\"#E5ECF6\",\"angularaxis\":{\"gridcolor\":\"white\",\"linecolor\":\"white\",\"ticks\":\"\"},\"radialaxis\":{\"gridcolor\":\"white\",\"linecolor\":\"white\",\"ticks\":\"\"}},\"ternary\":{\"bgcolor\":\"#E5ECF6\",\"aaxis\":{\"gridcolor\":\"white\",\"linecolor\":\"white\",\"ticks\":\"\"},\"baxis\":{\"gridcolor\":\"white\",\"linecolor\":\"white\",\"ticks\":\"\"},\"caxis\":{\"gridcolor\":\"white\",\"linecolor\":\"white\",\"ticks\":\"\"}},\"coloraxis\":{\"colorbar\":{\"outlinewidth\":0,\"ticks\":\"\"}},\"colorscale\":{\"sequential\":[[0.0,\"#0d0887\"],[0.1111111111111111,\"#46039f\"],[0.2222222222222222,\"#7201a8\"],[0.3333333333333333,\"#9c179e\"],[0.4444444444444444,\"#bd3786\"],[0.5555555555555556,\"#d8576b\"],[0.6666666666666666,\"#ed7953\"],[0.7777777777777778,\"#fb9f3a\"],[0.8888888888888888,\"#fdca26\"],[1.0,\"#f0f921\"]],\"sequentialminus\":[[0.0,\"#0d0887\"],[0.1111111111111111,\"#46039f\"],[0.2222222222222222,\"#7201a8\"],[0.3333333333333333,\"#9c179e\"],[0.4444444444444444,\"#bd3786\"],[0.5555555555555556,\"#d8576b\"],[0.6666666666666666,\"#ed7953\"],[0.7777777777777778,\"#fb9f3a\"],[0.8888888888888888,\"#fdca26\"],[1.0,\"#f0f921\"]],\"diverging\":[[0,\"#8e0152\"],[0.1,\"#c51b7d\"],[0.2,\"#de77ae\"],[0.3,\"#f1b6da\"],[0.4,\"#fde0ef\"],[0.5,\"#f7f7f7\"],[0.6,\"#e6f5d0\"],[0.7,\"#b8e186\"],[0.8,\"#7fbc41\"],[0.9,\"#4d9221\"],[1,\"#276419\"]]},\"xaxis\":{\"gridcolor\":\"white\",\"linecolor\":\"white\",\"ticks\":\"\",\"title\":{\"standoff\":15},\"zerolinecolor\":\"white\",\"automargin\":true,\"zerolinewidth\":2},\"yaxis\":{\"gridcolor\":\"white\",\"linecolor\":\"white\",\"ticks\":\"\",\"title\":{\"standoff\":15},\"zerolinecolor\":\"white\",\"automargin\":true,\"zerolinewidth\":2},\"scene\":{\"xaxis\":{\"backgroundcolor\":\"#E5ECF6\",\"gridcolor\":\"white\",\"linecolor\":\"white\",\"showbackground\":true,\"ticks\":\"\",\"zerolinecolor\":\"white\",\"gridwidth\":2},\"yaxis\":{\"backgroundcolor\":\"#E5ECF6\",\"gridcolor\":\"white\",\"linecolor\":\"white\",\"showbackground\":true,\"ticks\":\"\",\"zerolinecolor\":\"white\",\"gridwidth\":2},\"zaxis\":{\"backgroundcolor\":\"#E5ECF6\",\"gridcolor\":\"white\",\"linecolor\":\"white\",\"showbackground\":true,\"ticks\":\"\",\"zerolinecolor\":\"white\",\"gridwidth\":2}},\"shapedefaults\":{\"line\":{\"color\":\"#2a3f5f\"}},\"annotationdefaults\":{\"arrowcolor\":\"#2a3f5f\",\"arrowhead\":0,\"arrowwidth\":1},\"geo\":{\"bgcolor\":\"white\",\"landcolor\":\"#E5ECF6\",\"subunitcolor\":\"white\",\"showland\":true,\"showlakes\":true,\"lakecolor\":\"white\"},\"title\":{\"x\":0.05},\"mapbox\":{\"style\":\"light\"}}},\"xaxis\":{\"anchor\":\"y\",\"domain\":[0.0,1.0],\"title\":{\"text\":\"date\"}},\"yaxis\":{\"anchor\":\"x\",\"domain\":[0.0,1.0],\"title\":{\"text\":\"time\"}},\"legend\":{\"title\":{\"text\":\"shortcut\"},\"tracegroupgap\":0},\"title\":{\"text\":\"Progress of Rainbow Road N64 World Records\"}},                        {\"responsive\": true}                    ).then(function(){\n",
       "                            \n",
       "var gd = document.getElementById('fa7f58d0-2c15-4950-a36f-90fddad94470');\n",
       "var x = new MutationObserver(function (mutations, observer) {{\n",
       "        var display = window.getComputedStyle(gd).display;\n",
       "        if (!display || display === 'none') {{\n",
       "            console.log([gd, 'removed!']);\n",
       "            Plotly.purge(gd);\n",
       "            observer.disconnect();\n",
       "        }}\n",
       "}});\n",
       "\n",
       "// Listen for the removal of the full notebook cells\n",
       "var notebookContainer = gd.closest('#notebook-container');\n",
       "if (notebookContainer) {{\n",
       "    x.observe(notebookContainer, {childList: true});\n",
       "}}\n",
       "\n",
       "// Listen for the clearing of the current output cell\n",
       "var outputEl = gd.closest('.output');\n",
       "if (outputEl) {{\n",
       "    x.observe(outputEl, {childList: true});\n",
       "}}\n",
       "\n",
       "                        })                };                });            </script>        </div>"
      ]
     },
     "metadata": {},
     "output_type": "display_data"
    }
   ],
   "source": [
    "#| echo: false\n",
    "#| fig-cap: \"Progress of Rainbow Road world records, with and without allowing shortcuts.\"\n",
    "#| fig-width: 8\n",
    "#| label: wr-plot\n",
    "import plotly.express as px\n",
    "\n",
    "px.line(\n",
    "    rainbow_road,\n",
    "    x=\"date\",\n",
    "    y=\"time\",\n",
    "    color=\"shortcut\",\n",
    "    title=\"Progress of Rainbow Road N64 World Records\",\n",
    "    line_shape=\"hv\",\n",
    "    markers=\".\"\n",
    ")"
   ]
  },
  {
   "cell_type": "code",
   "execution_count": 3,
   "id": "b14a433e",
   "metadata": {},
   "outputs": [
    {
     "data": {
      "text/markdown": [
       "\n",
       "The longest a 3 lap world record was held \n",
       "for on Rainbow Road is 2214 days\n",
       "(6.1 years).\n"
      ],
      "text/plain": [
       "<IPython.core.display.Markdown object>"
      ]
     },
     "metadata": {},
     "output_type": "display_data"
    }
   ],
   "source": [
    "#| echo: false\n",
    "from IPython.display import display, Markdown\n",
    "\n",
    "max_duration = rainbow_road.record_duration.max()\n",
    "display(Markdown(\n",
    "f\"\"\"\n",
    "The longest a 3 lap world record was held \n",
    "for on Rainbow Road is {max_duration} days\n",
    "({round(max_duration/365,1)} years).\n",
    "\"\"\"\n",
    "))"
   ]
  }
 ],
 "metadata": {
  "kernelspec": {
   "display_name": "blog_env_github",
   "language": "python",
   "name": "blog_env_github"
  },
  "language_info": {
   "codemirror_mode": {
    "name": "ipython",
    "version": 3
   },
   "file_extension": ".py",
   "mimetype": "text/x-python",
   "name": "python",
   "nbconvert_exporter": "python",
   "pygments_lexer": "ipython3",
   "version": "3.10.12"
  }
 },
 "nbformat": 4,
 "nbformat_minor": 5
}
